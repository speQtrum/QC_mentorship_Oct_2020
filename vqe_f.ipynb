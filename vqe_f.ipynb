{
 "metadata": {
  "language_info": {
   "codemirror_mode": {
    "name": "ipython",
    "version": 3
   },
   "file_extension": ".py",
   "mimetype": "text/x-python",
   "name": "python",
   "nbconvert_exporter": "python",
   "pygments_lexer": "ipython3",
   "version": "3.8.1-final"
  },
  "orig_nbformat": 2,
  "kernelspec": {
   "name": "python38164bitqiskitenvconda860a5fef577343d5b67a3932c5a14e3b",
   "display_name": "Python 3.8.1 64-bit ('qiskit_env': conda)"
  }
 },
 "nbformat": 4,
 "nbformat_minor": 2,
 "cells": [
  {
   "cell_type": "code",
   "execution_count": 1,
   "metadata": {},
   "outputs": [],
   "source": [
    "##############################  All necessary imports  #########################\n",
    "import numpy as np\n",
    "from scipy.optimize import minimize\n",
    "import matplotlib.pyplot as plt\n",
    "from qiskit import *\n",
    "%matplotlib inline\n",
    "plt.style.use('ggplot')"
   ]
  },
  {
   "cell_type": "markdown",
   "metadata": {},
   "source": [
    "# Find the lowest eigen value of the matrix M below using VQE\n",
    "### Contents:\n",
    "1. Exact solution using Numpy linalg module\n",
    "2. Pauli gate decomposition and its verification\n",
    "3. Expeectation value calculation on quantum computer\n",
    "4. Measurement and basis transformation\n",
    "5. Variational Ansatz: 2 trial wave functions\n",
    "6. Exploration of $\\theta$ for $R_{x}(\\theta)$ with Ansatz-1\n",
    "7. VQE with scipy optimizer using Ansatz-1\n",
    "8. VQE with scipy optimizer using Ansatz-2\n",
    "\n",
    "\n",
    "\n",
    "$$ \n",
    "M = \\begin{bmatrix} 1 & 0 & 0 & 0 \\\\ 0 & 0 & -1 & 0 \\\\ 0 & -1 & 0 & 0 \\\\ 0 & 0 & 0 & 1 \\end{bmatrix} \n",
    "$$\n",
    "\n",
    "We can evaluate the lowest eigen values by using Numpy library \n",
    "\n",
    "# 1. Exact solution with Numpy linalg module"
   ]
  },
  {
   "cell_type": "code",
   "execution_count": 2,
   "metadata": {
    "tags": []
   },
   "outputs": [
    {
     "output_type": "stream",
     "name": "stdout",
     "text": "Our given matrix is:\n\n [[ 1  0  0  0]\n [ 0  0 -1  0]\n [ 0 -1  0  0]\n [ 0  0  0  1]]\n\nEigen values are: [ 1. -1.  1.  1.]\n\nLowest eigen value is: -1.0\n"
    }
   ],
   "source": [
    "M = np.array([[1,0,0,0],\n",
    "              [0,0,-1,0],\n",
    "              [0,-1,0,0],\n",
    "              [0,0,0,1]])\n",
    "\n",
    "eig_vals,eig_vecs = np.linalg.eig(M)\n",
    "\n",
    "\n",
    "print('Our given matrix is:\\n\\n',M)\n",
    "print('\\nEigen values are:',eig_vals)\n",
    "print('\\nLowest eigen value is:',round(eig_vals.min()))"
   ]
  },
  {
   "cell_type": "markdown",
   "metadata": {},
   "source": [
    "# 2. Solving this using VQE requires Pauli gate decomposition\n",
    "\n",
    "Decomposition of $M$ matrix into a sum of 2-qubit operators,\n",
    "\n",
    "\\begin{align}\n",
    "H = a X_1 \\otimes X_2+b Y_1 \\otimes Y_2+ c Z_1 \\otimes Z_2+d I_1 \\otimes I_2\n",
    "\\end{align}\n",
    "\n",
    "where the subscripts ${1,2}$ denote the first and second qubit on which the operator acts on, and $\\otimes$ indicates the tensor product, and $a,b,c,d$ are the coefficients. Pauli matrices $X,Y,Z$ are,\n",
    "\n",
    "\n",
    "\\begin{align}\n",
    "X = \\begin{bmatrix}0 &1  \\\\ 1 &0 \\end{bmatrix}, &  &\n",
    "Y = \\begin{bmatrix} 0 & -i \\\\ i & 0 \\end{bmatrix}, & &\n",
    "Z = \\begin{bmatrix} 1 &0  \\\\ 0 &-1 \\end{bmatrix}. \n",
    "\\end{align}\n",
    "\n",
    "\n",
    "\n",
    "Here $XX$,$YY$,$ZZ$ and $II$ are,\n",
    "\n",
    "\n",
    "\\begin{align}\n",
    "XX = \\begin{bmatrix}0&0&0&1\\\\0&0&1&0\\\\0&1&0&0\\\\1&0&0&0 \\end{bmatrix}, &  &\n",
    "YY = \\begin{bmatrix}0&0&0&-1\\\\0&0&1&0\\\\0&1&0&0\\\\-1&0&0&0 \\end{bmatrix}, &  &\n",
    "ZZ = \\begin{bmatrix}1&0&0&0\\\\0&-1&0&0\\\\0&0&-1&0\\\\0&0&0&1 \\end{bmatrix}, &  &\n",
    "II = \\begin{bmatrix}1&0&0&0\\\\0&1&0&0\\\\0&0&1&0\\\\0&0&0&1 \\end{bmatrix}, \n",
    "\\end{align}\n",
    "\n",
    "\n",
    "### Respective coefficients can be found by solving linear equation analytically,\n",
    "\\begin{align}\n",
    "a=-0.5,b=-0.5,c=0.5,d=0.5\n",
    "\\end{align}\n",
    "\n",
    "  $M$ in 2 qubit pauli operator decomposed format is\n",
    "\n",
    "\\begin{align}\n",
    "M = \\frac{1}{2}\\left(- X_1 \\otimes X_2 - Y_1 \\otimes Y_2+ Z_1 \\otimes Z_2 + I_1 \\otimes I_2 \\right),\n",
    "\\end{align}\n",
    " \n",
    "\n",
    "### Verification of pauli decomposition"
   ]
  },
  {
   "cell_type": "code",
   "execution_count": 3,
   "metadata": {
    "tags": []
   },
   "outputs": [
    {
     "output_type": "stream",
     "name": "stdout",
     "text": "M1 matrix is\n\n [[ 1  0  0  0]\n [ 0  0 -1  0]\n [ 0 -1  0  0]\n [ 0  0  0  1]] \n\nPauli decomposition verified: True\n"
    }
   ],
   "source": [
    "############   checking the result of Pauli decomposition  #################\n",
    "\n",
    "X = np.array([[0,1],[1,0]])       # pauli's sigma-x matrix\n",
    "Y = np.array([[0, -1j],[1j, 0]])  # pauli's sigma-y matrix\n",
    "Z = np.array([[1,0],[0,-1]])      # pauli's sigma-z matrix\n",
    "I = np.array([[1,0],[0,1]])       # 2X2 Identity matrix\n",
    "\n",
    "\n",
    "\n",
    "XX = np.kron(X,X)       \n",
    "YY = np.kron(Y,Y)\n",
    "ZZ = np.kron(Z,Z)\n",
    "II = np.kron(I,I)\n",
    "\n",
    "a,b,c,d = -0.5,-0.5,0.5,0.5\n",
    "M1 = (a*XX) + (b*YY) + (c*ZZ) + (d*II)\n",
    "print('M1 matrix is\\n\\n',M1.astype(int),'\\n\\nPauli decomposition verified:',np.array_equal(M,M1))"
   ]
  },
  {
   "cell_type": "markdown",
   "metadata": {},
   "source": [
    "# 3. Expectation value calculation on Quantum computer\n",
    "\n",
    "A general 2 qubit state can be represented as,\n",
    "\n",
    "\\begin{align}  \n",
    "\\left|\\psi\\right> = \\alpha_{00}\\left|00\\right> + \\alpha_{01}\\left|01\\right> + \\alpha_{10}\\left|10\\right> + \\alpha_{11}\\left|11\\right>\n",
    "\\end{align}  \n",
    "\n",
    "Expectation value of the above operator M on $\\left< \\psi\\right>$,\n",
    "\\begin{align}      \n",
    "E = \\left< \\psi\\right| M \\left| \\psi\\right>  \n",
    "\\end{align}\n",
    "\n",
    "Now if we want to measure expectation value of any operator (say, $Z_{1} \\otimes Z_{2}$) for the above state on computational basis, it follows\n",
    "\n",
    "\\begin{align}\n",
    "\\left< \\psi\\right|Z_{1} \\otimes Z_{2}\\left| \\psi\\right> = \\alpha_{00}^2 - \\alpha_{01}^2 - \\alpha_{10}^2 + \\alpha_{11}^2  = (\\alpha_{00}^2 + \\alpha_{11}^2) - (\\alpha_{01}^2 + \\alpha_{10}^2) \\\\ = \\text{(prob(00) + prob(11)) - (prob(01) + prob(10))} \\\\ = \\frac{\\text{(count(00)+count(11))-(count(01)+count(10))}}{\\text{shots}}\n",
    "\\end{align}\n",
    "\n",
    "Hence, we'll also measure other 2 qubit operators $X_{1} \\otimes X_{2}$ and $Y_{1} \\otimes Y_{2}$ in the computational basis."
   ]
  },
  {
   "cell_type": "markdown",
   "metadata": {},
   "source": [
    "# 4. Measurement and Basis Transformation\n",
    "\n",
    "We have to measure every observables in their respective basis. \n",
    "\n",
    "1. The first term in the hamiltonian $X_{1} \\otimes X_{2}$ is in the hadamard basis. Since\n",
    "\n",
    "\\begin{align}\n",
    "X\\left| + \\right> &= \\left|+ \\right> & X\\left| - \\right> = -\\left|- \\right>\n",
    "\\end{align}\n",
    "where\n",
    "\\begin{align}\n",
    "\\left|+\\right> &= \\frac{1}{\\sqrt2}\\left(\\left|0\\right> + \\left| 1 \\right> \\right) & \\left|-\\right> &= \\frac{1}{\\sqrt2}\\left(\\left|0\\right> - \\left| 1 \\right> \\right)\n",
    "\\end{align}\n",
    "\n",
    "\n",
    "\n",
    "So we need to apply some basis transformation such that $\\left| + \\right>$ goes to $\\left| 0 \\right>$ and $\\left| - \\right>$ goes to $\\left| 1 \\right>$. Such a gate is hadamard $H$ gate.\n",
    "\n",
    "\n",
    "\n",
    "\\begin{align}\n",
    "H\\left| + \\right> &= \\left|0\\right> & H\\left| - \\right> = \\left|1\\right>\n",
    "\\end{align}\n",
    "\n",
    "So, we will apply hadamard gate on both qubits before measurement. We could have used $R_{y}(-\\pi/2)$ or $U_{3}$ on both qubits.\n",
    "\n",
    "so,\n",
    "\\begin{align}\n",
    "X_{1} \\otimes X_{2} &= \\left(H_1 \\otimes H_2 \\right)^\\dagger Z_1 \\otimes Z_2  \\left(H_1 \\otimes H_2 \\right),\n",
    "\\end{align}\n",
    "\n",
    "\n",
    "\n",
    "2. The 2nd term $Y_{1} \\otimes Y_{2}$ is also not in the $Z$ basis. $Y$ has two eigen vectors,\n",
    "\\begin{align}\n",
    "\\left| +i \\right> &= \\frac{1}{\\sqrt2}\\left(\\left|0\\right> + i\\left| 1 \\right> \\right) & \\left| -i \\right> &= \\frac{1}{\\sqrt2}\\left(\\left|0\\right> - i\\left| 1 \\right> \\right)\n",
    "\\end{align}\n",
    "\n",
    "In this case our transformation will be $HS^\\dagger$ , which will be applied to every qubit before measurement as, \n",
    "\\begin{align}\n",
    "HS^\\dagger\\left| +i \\right> &= \\left|0\\right> & HS^\\dagger\\left| -i \\right> = \\left|1\\right>\n",
    "\\end{align}\n",
    "\n",
    "We could have used $R_{x}(\\pi/2)$ or $U_{3}(\\pi/2,0,\\pi/2)$ gate on each qubits. So,\n",
    "\n",
    "\\begin{align}\n",
    "Y_{1} \\otimes Y_{2} &= \\left(H_1 S_1^\\dagger \\otimes H_2 S_2^\\dagger \\right)^\\dagger Z_1 \\otimes Z_2  \\left(H_1 S_1^\\dagger \\otimes H_2 S_2^\\dagger \\right),\n",
    "\\end{align}\n",
    "\n",
    "where,\n",
    "\\begin{align}\n",
    "S^\\dagger = \\begin{bmatrix}1 & 0 \\\\ 0 & -i\\end{bmatrix} & &\n",
    "H = \\frac{1}{\\sqrt2} \\begin{bmatrix}1 & 1 \\\\ 1 & -1\\end{bmatrix}\n",
    "\\end{align}\n",
    "\n",
    "\n",
    "\n",
    "3. $Z_{1} \\otimes Z_{2}$ is already in $Z$ basis, so we dont need to do any basis transformation. \n",
    "\n",
    "\n",
    "4. The 4th term $I_{1} \\otimes I_{2}$ is just a constant. No measurement is required.\n",
    "\n",
    "\n",
    "These identities allow us to write our original matrix $M$ as the sum of operators\n",
    "\n",
    " \n",
    "\\begin{align}\n",
    "M = -\\frac{1}{2}\\left(H_1 \\otimes H_2 \\right)^\\dagger \\left( Z_1 \\otimes Z_2 \\right)  \\left(H_1 \\otimes H_2 \\right)\n",
    "- \\frac{1}{2}\\left(H_1 S_1^\\dagger \\otimes H_2 S_2^\\dagger \\right)^\\dagger \\left( Z_1 \\otimes Z_2 \\right)  \\left(H_1 S_1^\\dagger \\otimes H_2 S_2^\\dagger \\right) + \\frac{1}{2}\\left( Z_1 \\otimes Z_2 \\right) + \\frac{1}{2}\\left( I_1 \\otimes I_2 \\right).\n",
    "\\end{align}\n",
    "\n",
    "\n",
    "The expectation value of the above matrix on the state $| \\psi \\rangle$ is given as\n",
    "\n",
    "\n",
    "\\begin{align}\n",
    "\\left< \\psi \\right| M \\left| \\psi \\right> = -\\frac{1}{2} \\left< \\phi_1 \\right| \\left( Z_1 \\otimes Z_2 \\right)\\left| \\phi_1 \\right>    - \\frac{1}{2} \\left< \\phi_2 \\right|\\left( Z_1 \\otimes Z_2 \\right) \\left| \\phi_2 \\right>  +\\frac{1}{2}\\langle \\psi|\\left( Z_1 \\otimes Z_2 \\right)\\left| \\psi \\right>  + \\frac{1}{2}  \n",
    "\\end{align}\n",
    "\n",
    "\n",
    "where new states $\\left| \\phi_1 \\right>$ and $\\left| \\phi_2 \\right>$ are\n",
    "\n",
    "  \n",
    "\\begin{align}  \n",
    "\\left| \\phi_1 \\right> &=  \\left(H_1 \\otimes H_2 \\right) \\left|\\psi \\right>, \\\\  \n",
    "\\left| \\phi_2 \\right> &= \\left(H_1 S_1^\\dagger \\otimes H_2 S_2^\\dagger \\right) \\left|\\psi \\right>  \n",
    "\\end{align}  \n"
   ]
  },
  {
   "cell_type": "code",
   "execution_count": 4,
   "metadata": {},
   "outputs": [],
   "source": [
    "## All the necessary functions for the algorithm are written here ##\n",
    "\n",
    "def XX(theta):\n",
    "    \"\"\"\n",
    "    Gives expectation value of XX\n",
    "    sub-hamiltonian from measurement\n",
    "    on parametric state.\n",
    "    :param theta: angle in radian\n",
    "    :return: expectation value of XX\n",
    "    \"\"\"\n",
    "    circuit = ansatz(theta)\n",
    "    q = circuit.qregs[0]\n",
    "    c = circuit.cregs[0]\n",
    "    ###########  Transformation on XX ###########\n",
    "\n",
    "    circuit.h(q[0])              #circuit.ry(-np.pi/2, q[0])\n",
    "    circuit.h(q[1])              #circuit.ry(-np.pi/2, q[1])\n",
    "\n",
    "    ############  XX measurement  ##############\n",
    "    circuit.measure(q,c)\n",
    "    exp_XX = measurement(circuit)\n",
    "    return exp_XX\n",
    "    \n",
    "def YY(theta):\n",
    "    \"\"\"\n",
    "    Gives expectation value of YY\n",
    "    sub-hamiltonian from measurement\n",
    "    on parametric state.\n",
    "    :param theta: angle in radian\n",
    "    :return: expectation value of YY\n",
    "    \"\"\"\n",
    "    circuit = ansatz(theta)\n",
    "    q = circuit.qregs[0]\n",
    "    c = circuit.cregs[0]\n",
    "    ########### Transformation on YY #########\n",
    "\n",
    "    circuit.sdg(q[0])           #circuit.rx(np.pi/2, q[0])\n",
    "    circuit.h(q[0])             #circuit.rx(np.pi/2, q[1])\n",
    "    circuit.sdg(q[1])\n",
    "    circuit.h(q[1])\n",
    "\n",
    "    ############ YY Measurement ###########  \n",
    "    circuit.measure(q,c)\n",
    "    exp_YY = measurement(circuit)\n",
    "    return exp_YY\n",
    "\n",
    "def ZZ(theta):\n",
    "    \"\"\"\n",
    "    Gives expectation value of ZZ\n",
    "    sub-hamiltonian from measurement\n",
    "    on parametric state.\n",
    "    :param theta: angle in radian\n",
    "    :return: expectation value of ZZ\n",
    "    \"\"\"\n",
    "    circuit = ansatz(theta)\n",
    "    q = circuit.qregs[0]\n",
    "    c = circuit.cregs[0]\n",
    "\n",
    "    ###########  ZZ measurement ###############  \n",
    "    circuit.measure(q,c)\n",
    "    exp_ZZ = measurement(circuit)\n",
    "    return exp_ZZ\n",
    "\n",
    "def vqe(theta):    #------------------- creates ansatz measures and performs addition to get the eigen value\n",
    "    \"\"\"\n",
    "    Contains the complete Hamiltonian\n",
    "    :param theta: angle is radian\n",
    "    :return: expectation value of whole hamiltonian\n",
    "    \"\"\"                                                                # H = aXX + bYY + cZZ + dII\n",
    "    E = (-0.5*XX(theta)) + (-0.5*YY(theta)) + (0.5*ZZ(theta)) + 0.5    #Hamiltonian  with a,b,c,d\n",
    "    return E\n",
    "\n",
    "def key_check(my_dict: dict, my_key: str):\n",
    "    \"\"\"\n",
    "    If key is missing returns 0\n",
    "    otherwise the corresponding value.\n",
    "    :param my_dict: the dictionary\n",
    "    :param my_key: key (string)\n",
    "    :return: 0 or value corresponding to key\n",
    "    \"\"\"\n",
    "    response = 0\n",
    "    if my_key in my_dict:\n",
    "        response = my_dict[my_key]\n",
    "    return response\n",
    "\n",
    "    \n",
    "def measurement(circuit):  # ------------------ Takes a quantum circuit and perform measurement\n",
    "    \"\"\"\n",
    "    Takes the quantum circuit as\n",
    "    input to perform measurement\n",
    "    :param circuit: quantumm circuit\n",
    "    :return: expectation value\n",
    "    \"\"\"\n",
    "    shots =1024\n",
    "    backend = BasicAer.get_backend('qasm_simulator')\n",
    "    job = execute(circuit, backend, shots=shots)\n",
    "    result = job.result()\n",
    "    counts = result.get_counts()\n",
    "    \n",
    "    n00 = key_check(counts,'00')\n",
    "    n01 = key_check(counts,'01')\n",
    "    n10 = key_check(counts,'10')\n",
    "    n11 = key_check(counts,'11')\n",
    "    expectation_value = ((n00+n11)-(n01+n10))/shots \n",
    "    return expectation_value"
   ]
  },
  {
   "cell_type": "markdown",
   "metadata": {},
   "source": [
    "# 5. Variational Ansatz : Trial wave function\n",
    "\n",
    "According to the theory of Variational methods for Quantum mechanics, to measure the expectation value of $M$ we need a trial wave function or ansatz $\\left| \\psi(\\theta) \\right>$ .\n",
    "\n",
    "\\begin{align}      \n",
    "E(\\theta) = \\left< \\psi(\\theta)\\right| M \\left| \\psi(\\theta) \\right>  \n",
    "\\end{align}\n",
    "\n",
    "Here we have discussed the solution with two ansatz.\n",
    "\n",
    "### Ansatz 1: Given in the question of Task 4 with 1 parametric $R_{x}(\\theta)$ gate\n",
    "\\begin{align}\n",
    "\\left| \\psi (\\theta) \\right>_{1} = (R_{x}(\\theta) \\otimes I)CX(H \\otimes I) \\left| 00 \\right>.\n",
    "\\end{align}\n",
    "\n",
    "### Ansatz 2: Circuit with 6 parametric $R_{y}(\\theta)$ gates\n",
    "\\begin{align}\n",
    "\\left| \\psi (\\theta) \\right>_{2} = CX(R_{y}(\\theta_{0}) \\otimes R_{y}(\\theta_{1}))CX(R_{y}(\\theta_{0}) \\otimes R_{y}(\\theta_{1}))CX(R_{y}(\\theta_{0}) \\otimes R_{y}(\\theta_{1})) \\left| 00 \\right>.\n",
    "\\end{align}\n",
    "\n",
    "![alt text](rsz_ansatzcollage.png \"Ansatz collection\")\n",
    "\n",
    "\n"
   ]
  },
  {
   "cell_type": "markdown",
   "metadata": {},
   "source": [
    "# Attention! Mechanism of $ansatz(\\theta)$ function $\\left| \\psi (\\theta) \\right>$\n",
    "A single function is presented below for both ansatz. The working mechanism is little different. The $theta-\\theta$ in function $ansatz(theta)$ is a list or array with one or two elements. When $theta-\\theta$ with one-parameter(list or array with one element) is passed into $ansatz(theta)$, it automatically starts using Ansatz-1, as there is only one parametric angle is Ansatz-1. Similarly if we pass $theta-\\theta$ list or array with 2 parameters (list or array with 2 elements), the $ansatz(theta)$ function will use Ansatz-2."
   ]
  },
  {
   "cell_type": "code",
   "execution_count": 5,
   "metadata": {},
   "outputs": [],
   "source": [
    "def ansatz(theta):\n",
    "    \"\"\"\n",
    "    Creates ANSATZ with an \n",
    "    angle taking as parameter &\n",
    "    returns a quantum circuit.\n",
    "    :param theta: angle in radian\n",
    "    :return: quantum circuit\n",
    "    \"\"\"\n",
    "    q = QuantumRegister(2)\n",
    "    c = ClassicalRegister(2)\n",
    "    circuit = QuantumCircuit(q,c)\n",
    "    if len(theta) ==1:   #--------------- Ansatz 1\n",
    "        circuit.h(q[0])\n",
    "        circuit.cx(q[0],q[1])\n",
    "        circuit.rx(theta[0],q[0])\n",
    "        return circuit\n",
    "    elif len(theta)==2:  #--------------- Ansatz 2\n",
    "        for i in range(3):  #----------------circuit depth\n",
    "            circuit.cx(q[0],q[1])\n",
    "            circuit.ry(theta[0],q[0])\n",
    "            circuit.ry(theta[1],q[1])\n",
    "        return circuit"
   ]
  },
  {
   "cell_type": "markdown",
   "metadata": {},
   "source": [
    "### As Ansatz-1 contains one parametric angle, it is easier to search over all spaces from 0 to $2\\pi$ , but for Ansatz-2 there are 6 parametric gates (taking depth of the circut into account), which is little difficult for searching. Hence, searching is performed with Ansatz-1. Later on there are solutions using Scipy optimizers with Ansatz-1 and Ansatz-2 both."
   ]
  },
  {
   "cell_type": "markdown",
   "metadata": {},
   "source": [
    "# 6. $\\theta$ exploration of $R_{x}(\\theta)$ with Ansatz 1\n",
    "\n",
    "Ansatz 1 uses one parametric gate $R_{x}(\\theta)$. Here $N$ equispaced angles are introduced between 0 to $2\\pi$ and for each angle (theta) expectation value is calculated using for loop. No optimizer is used here."
   ]
  },
  {
   "cell_type": "code",
   "execution_count": 6,
   "metadata": {
    "tags": []
   },
   "outputs": [
    {
     "output_type": "stream",
     "name": "stdout",
     "text": "Search in progress... Please wait!\n\n \n \nMinimum energy eigen value is: -1.0\nAngle corresponds to this energy is 3.15421 radian\n\n"
    },
    {
     "output_type": "display_data",
     "data": {
      "text/plain": "<Figure size 432x288 with 1 Axes>",
      "image/svg+xml": "<?xml version=\"1.0\" encoding=\"utf-8\" standalone=\"no\"?>\n<!DOCTYPE svg PUBLIC \"-//W3C//DTD SVG 1.1//EN\"\n  \"http://www.w3.org/Graphics/SVG/1.1/DTD/svg11.dtd\">\n<!-- Created with matplotlib (https://matplotlib.org/) -->\n<svg height=\"281.073625pt\" version=\"1.1\" viewBox=\"0 0 402.459062 281.073625\" width=\"402.459062pt\" xmlns=\"http://www.w3.org/2000/svg\" xmlns:xlink=\"http://www.w3.org/1999/xlink\">\n <defs>\n  <style type=\"text/css\">\n*{stroke-linecap:butt;stroke-linejoin:round;}\n  </style>\n </defs>\n <g id=\"figure_1\">\n  <g id=\"patch_1\">\n   <path d=\"M 0 281.073625 \nL 402.459062 281.073625 \nL 402.459062 0 \nL 0 0 \nz\n\" style=\"fill:#ffffff;\"/>\n  </g>\n  <g id=\"axes_1\">\n   <g id=\"patch_2\">\n    <path d=\"M 60.459063 241.58175 \nL 395.259063 241.58175 \nL 395.259063 24.14175 \nL 60.459063 24.14175 \nz\n\" style=\"fill:#e5e5e5;\"/>\n   </g>\n   <g id=\"matplotlib.axis_1\">\n    <g id=\"xtick_1\">\n     <g id=\"line2d_1\">\n      <path clip-path=\"url(#pf952b46236)\" d=\"M 75.677244 241.58175 \nL 75.677244 24.14175 \n\" style=\"fill:none;stroke:#ffffff;stroke-linecap:square;stroke-width:0.8;\"/>\n     </g>\n     <g id=\"line2d_2\">\n      <defs>\n       <path d=\"M 0 0 \nL 0 3.5 \n\" id=\"maef2b7fd5d\" style=\"stroke:#555555;stroke-width:0.8;\"/>\n      </defs>\n      <g>\n       <use style=\"fill:#555555;stroke:#555555;stroke-width:0.8;\" x=\"75.677244\" xlink:href=\"#maef2b7fd5d\" y=\"241.58175\"/>\n      </g>\n     </g>\n     <g id=\"text_1\">\n      <!-- 0 -->\n      <defs>\n       <path d=\"M 31.78125 66.40625 \nQ 24.171875 66.40625 20.328125 58.90625 \nQ 16.5 51.421875 16.5 36.375 \nQ 16.5 21.390625 20.328125 13.890625 \nQ 24.171875 6.390625 31.78125 6.390625 \nQ 39.453125 6.390625 43.28125 13.890625 \nQ 47.125 21.390625 47.125 36.375 \nQ 47.125 51.421875 43.28125 58.90625 \nQ 39.453125 66.40625 31.78125 66.40625 \nz\nM 31.78125 74.21875 \nQ 44.046875 74.21875 50.515625 64.515625 \nQ 56.984375 54.828125 56.984375 36.375 \nQ 56.984375 17.96875 50.515625 8.265625 \nQ 44.046875 -1.421875 31.78125 -1.421875 \nQ 19.53125 -1.421875 13.0625 8.265625 \nQ 6.59375 17.96875 6.59375 36.375 \nQ 6.59375 54.828125 13.0625 64.515625 \nQ 19.53125 74.21875 31.78125 74.21875 \nz\n\" id=\"DejaVuSans-48\"/>\n      </defs>\n      <g style=\"fill:#555555;\" transform=\"translate(72.495994 256.180187)scale(0.1 -0.1)\">\n       <use xlink:href=\"#DejaVuSans-48\"/>\n      </g>\n     </g>\n    </g>\n    <g id=\"xtick_2\">\n     <g id=\"line2d_3\">\n      <path clip-path=\"url(#pf952b46236)\" d=\"M 124.118222 241.58175 \nL 124.118222 24.14175 \n\" style=\"fill:none;stroke:#ffffff;stroke-linecap:square;stroke-width:0.8;\"/>\n     </g>\n     <g id=\"line2d_4\">\n      <g>\n       <use style=\"fill:#555555;stroke:#555555;stroke-width:0.8;\" x=\"124.118222\" xlink:href=\"#maef2b7fd5d\" y=\"241.58175\"/>\n      </g>\n     </g>\n     <g id=\"text_2\">\n      <!-- 1 -->\n      <defs>\n       <path d=\"M 12.40625 8.296875 \nL 28.515625 8.296875 \nL 28.515625 63.921875 \nL 10.984375 60.40625 \nL 10.984375 69.390625 \nL 28.421875 72.90625 \nL 38.28125 72.90625 \nL 38.28125 8.296875 \nL 54.390625 8.296875 \nL 54.390625 0 \nL 12.40625 0 \nz\n\" id=\"DejaVuSans-49\"/>\n      </defs>\n      <g style=\"fill:#555555;\" transform=\"translate(120.936972 256.180187)scale(0.1 -0.1)\">\n       <use xlink:href=\"#DejaVuSans-49\"/>\n      </g>\n     </g>\n    </g>\n    <g id=\"xtick_3\">\n     <g id=\"line2d_5\">\n      <path clip-path=\"url(#pf952b46236)\" d=\"M 172.559199 241.58175 \nL 172.559199 24.14175 \n\" style=\"fill:none;stroke:#ffffff;stroke-linecap:square;stroke-width:0.8;\"/>\n     </g>\n     <g id=\"line2d_6\">\n      <g>\n       <use style=\"fill:#555555;stroke:#555555;stroke-width:0.8;\" x=\"172.559199\" xlink:href=\"#maef2b7fd5d\" y=\"241.58175\"/>\n      </g>\n     </g>\n     <g id=\"text_3\">\n      <!-- 2 -->\n      <defs>\n       <path d=\"M 19.1875 8.296875 \nL 53.609375 8.296875 \nL 53.609375 0 \nL 7.328125 0 \nL 7.328125 8.296875 \nQ 12.9375 14.109375 22.625 23.890625 \nQ 32.328125 33.6875 34.8125 36.53125 \nQ 39.546875 41.84375 41.421875 45.53125 \nQ 43.3125 49.21875 43.3125 52.78125 \nQ 43.3125 58.59375 39.234375 62.25 \nQ 35.15625 65.921875 28.609375 65.921875 \nQ 23.96875 65.921875 18.8125 64.3125 \nQ 13.671875 62.703125 7.8125 59.421875 \nL 7.8125 69.390625 \nQ 13.765625 71.78125 18.9375 73 \nQ 24.125 74.21875 28.421875 74.21875 \nQ 39.75 74.21875 46.484375 68.546875 \nQ 53.21875 62.890625 53.21875 53.421875 \nQ 53.21875 48.921875 51.53125 44.890625 \nQ 49.859375 40.875 45.40625 35.40625 \nQ 44.1875 33.984375 37.640625 27.21875 \nQ 31.109375 20.453125 19.1875 8.296875 \nz\n\" id=\"DejaVuSans-50\"/>\n      </defs>\n      <g style=\"fill:#555555;\" transform=\"translate(169.377949 256.180187)scale(0.1 -0.1)\">\n       <use xlink:href=\"#DejaVuSans-50\"/>\n      </g>\n     </g>\n    </g>\n    <g id=\"xtick_4\">\n     <g id=\"line2d_7\">\n      <path clip-path=\"url(#pf952b46236)\" d=\"M 221.000176 241.58175 \nL 221.000176 24.14175 \n\" style=\"fill:none;stroke:#ffffff;stroke-linecap:square;stroke-width:0.8;\"/>\n     </g>\n     <g id=\"line2d_8\">\n      <g>\n       <use style=\"fill:#555555;stroke:#555555;stroke-width:0.8;\" x=\"221.000176\" xlink:href=\"#maef2b7fd5d\" y=\"241.58175\"/>\n      </g>\n     </g>\n     <g id=\"text_4\">\n      <!-- 3 -->\n      <defs>\n       <path d=\"M 40.578125 39.3125 \nQ 47.65625 37.796875 51.625 33 \nQ 55.609375 28.21875 55.609375 21.1875 \nQ 55.609375 10.40625 48.1875 4.484375 \nQ 40.765625 -1.421875 27.09375 -1.421875 \nQ 22.515625 -1.421875 17.65625 -0.515625 \nQ 12.796875 0.390625 7.625 2.203125 \nL 7.625 11.71875 \nQ 11.71875 9.328125 16.59375 8.109375 \nQ 21.484375 6.890625 26.8125 6.890625 \nQ 36.078125 6.890625 40.9375 10.546875 \nQ 45.796875 14.203125 45.796875 21.1875 \nQ 45.796875 27.640625 41.28125 31.265625 \nQ 36.765625 34.90625 28.71875 34.90625 \nL 20.21875 34.90625 \nL 20.21875 43.015625 \nL 29.109375 43.015625 \nQ 36.375 43.015625 40.234375 45.921875 \nQ 44.09375 48.828125 44.09375 54.296875 \nQ 44.09375 59.90625 40.109375 62.90625 \nQ 36.140625 65.921875 28.71875 65.921875 \nQ 24.65625 65.921875 20.015625 65.03125 \nQ 15.375 64.15625 9.8125 62.3125 \nL 9.8125 71.09375 \nQ 15.4375 72.65625 20.34375 73.4375 \nQ 25.25 74.21875 29.59375 74.21875 \nQ 40.828125 74.21875 47.359375 69.109375 \nQ 53.90625 64.015625 53.90625 55.328125 \nQ 53.90625 49.265625 50.4375 45.09375 \nQ 46.96875 40.921875 40.578125 39.3125 \nz\n\" id=\"DejaVuSans-51\"/>\n      </defs>\n      <g style=\"fill:#555555;\" transform=\"translate(217.818926 256.180187)scale(0.1 -0.1)\">\n       <use xlink:href=\"#DejaVuSans-51\"/>\n      </g>\n     </g>\n    </g>\n    <g id=\"xtick_5\">\n     <g id=\"line2d_9\">\n      <path clip-path=\"url(#pf952b46236)\" d=\"M 269.441153 241.58175 \nL 269.441153 24.14175 \n\" style=\"fill:none;stroke:#ffffff;stroke-linecap:square;stroke-width:0.8;\"/>\n     </g>\n     <g id=\"line2d_10\">\n      <g>\n       <use style=\"fill:#555555;stroke:#555555;stroke-width:0.8;\" x=\"269.441153\" xlink:href=\"#maef2b7fd5d\" y=\"241.58175\"/>\n      </g>\n     </g>\n     <g id=\"text_5\">\n      <!-- 4 -->\n      <defs>\n       <path d=\"M 37.796875 64.3125 \nL 12.890625 25.390625 \nL 37.796875 25.390625 \nz\nM 35.203125 72.90625 \nL 47.609375 72.90625 \nL 47.609375 25.390625 \nL 58.015625 25.390625 \nL 58.015625 17.1875 \nL 47.609375 17.1875 \nL 47.609375 0 \nL 37.796875 0 \nL 37.796875 17.1875 \nL 4.890625 17.1875 \nL 4.890625 26.703125 \nz\n\" id=\"DejaVuSans-52\"/>\n      </defs>\n      <g style=\"fill:#555555;\" transform=\"translate(266.259903 256.180187)scale(0.1 -0.1)\">\n       <use xlink:href=\"#DejaVuSans-52\"/>\n      </g>\n     </g>\n    </g>\n    <g id=\"xtick_6\">\n     <g id=\"line2d_11\">\n      <path clip-path=\"url(#pf952b46236)\" d=\"M 317.88213 241.58175 \nL 317.88213 24.14175 \n\" style=\"fill:none;stroke:#ffffff;stroke-linecap:square;stroke-width:0.8;\"/>\n     </g>\n     <g id=\"line2d_12\">\n      <g>\n       <use style=\"fill:#555555;stroke:#555555;stroke-width:0.8;\" x=\"317.88213\" xlink:href=\"#maef2b7fd5d\" y=\"241.58175\"/>\n      </g>\n     </g>\n     <g id=\"text_6\">\n      <!-- 5 -->\n      <defs>\n       <path d=\"M 10.796875 72.90625 \nL 49.515625 72.90625 \nL 49.515625 64.59375 \nL 19.828125 64.59375 \nL 19.828125 46.734375 \nQ 21.96875 47.46875 24.109375 47.828125 \nQ 26.265625 48.1875 28.421875 48.1875 \nQ 40.625 48.1875 47.75 41.5 \nQ 54.890625 34.8125 54.890625 23.390625 \nQ 54.890625 11.625 47.5625 5.09375 \nQ 40.234375 -1.421875 26.90625 -1.421875 \nQ 22.3125 -1.421875 17.546875 -0.640625 \nQ 12.796875 0.140625 7.71875 1.703125 \nL 7.71875 11.625 \nQ 12.109375 9.234375 16.796875 8.0625 \nQ 21.484375 6.890625 26.703125 6.890625 \nQ 35.15625 6.890625 40.078125 11.328125 \nQ 45.015625 15.765625 45.015625 23.390625 \nQ 45.015625 31 40.078125 35.4375 \nQ 35.15625 39.890625 26.703125 39.890625 \nQ 22.75 39.890625 18.8125 39.015625 \nQ 14.890625 38.140625 10.796875 36.28125 \nz\n\" id=\"DejaVuSans-53\"/>\n      </defs>\n      <g style=\"fill:#555555;\" transform=\"translate(314.70088 256.180187)scale(0.1 -0.1)\">\n       <use xlink:href=\"#DejaVuSans-53\"/>\n      </g>\n     </g>\n    </g>\n    <g id=\"xtick_7\">\n     <g id=\"line2d_13\">\n      <path clip-path=\"url(#pf952b46236)\" d=\"M 366.323108 241.58175 \nL 366.323108 24.14175 \n\" style=\"fill:none;stroke:#ffffff;stroke-linecap:square;stroke-width:0.8;\"/>\n     </g>\n     <g id=\"line2d_14\">\n      <g>\n       <use style=\"fill:#555555;stroke:#555555;stroke-width:0.8;\" x=\"366.323108\" xlink:href=\"#maef2b7fd5d\" y=\"241.58175\"/>\n      </g>\n     </g>\n     <g id=\"text_7\">\n      <!-- 6 -->\n      <defs>\n       <path d=\"M 33.015625 40.375 \nQ 26.375 40.375 22.484375 35.828125 \nQ 18.609375 31.296875 18.609375 23.390625 \nQ 18.609375 15.53125 22.484375 10.953125 \nQ 26.375 6.390625 33.015625 6.390625 \nQ 39.65625 6.390625 43.53125 10.953125 \nQ 47.40625 15.53125 47.40625 23.390625 \nQ 47.40625 31.296875 43.53125 35.828125 \nQ 39.65625 40.375 33.015625 40.375 \nz\nM 52.59375 71.296875 \nL 52.59375 62.3125 \nQ 48.875 64.0625 45.09375 64.984375 \nQ 41.3125 65.921875 37.59375 65.921875 \nQ 27.828125 65.921875 22.671875 59.328125 \nQ 17.53125 52.734375 16.796875 39.40625 \nQ 19.671875 43.65625 24.015625 45.921875 \nQ 28.375 48.1875 33.59375 48.1875 \nQ 44.578125 48.1875 50.953125 41.515625 \nQ 57.328125 34.859375 57.328125 23.390625 \nQ 57.328125 12.15625 50.6875 5.359375 \nQ 44.046875 -1.421875 33.015625 -1.421875 \nQ 20.359375 -1.421875 13.671875 8.265625 \nQ 6.984375 17.96875 6.984375 36.375 \nQ 6.984375 53.65625 15.1875 63.9375 \nQ 23.390625 74.21875 37.203125 74.21875 \nQ 40.921875 74.21875 44.703125 73.484375 \nQ 48.484375 72.75 52.59375 71.296875 \nz\n\" id=\"DejaVuSans-54\"/>\n      </defs>\n      <g style=\"fill:#555555;\" transform=\"translate(363.141858 256.180187)scale(0.1 -0.1)\">\n       <use xlink:href=\"#DejaVuSans-54\"/>\n      </g>\n     </g>\n    </g>\n    <g id=\"text_8\">\n     <!-- Parametric Angles(radian) -->\n     <defs>\n      <path d=\"M 19.671875 64.796875 \nL 19.671875 37.40625 \nL 32.078125 37.40625 \nQ 38.96875 37.40625 42.71875 40.96875 \nQ 46.484375 44.53125 46.484375 51.125 \nQ 46.484375 57.671875 42.71875 61.234375 \nQ 38.96875 64.796875 32.078125 64.796875 \nz\nM 9.8125 72.90625 \nL 32.078125 72.90625 \nQ 44.34375 72.90625 50.609375 67.359375 \nQ 56.890625 61.8125 56.890625 51.125 \nQ 56.890625 40.328125 50.609375 34.8125 \nQ 44.34375 29.296875 32.078125 29.296875 \nL 19.671875 29.296875 \nL 19.671875 0 \nL 9.8125 0 \nz\n\" id=\"DejaVuSans-80\"/>\n      <path d=\"M 34.28125 27.484375 \nQ 23.390625 27.484375 19.1875 25 \nQ 14.984375 22.515625 14.984375 16.5 \nQ 14.984375 11.71875 18.140625 8.90625 \nQ 21.296875 6.109375 26.703125 6.109375 \nQ 34.1875 6.109375 38.703125 11.40625 \nQ 43.21875 16.703125 43.21875 25.484375 \nL 43.21875 27.484375 \nz\nM 52.203125 31.203125 \nL 52.203125 0 \nL 43.21875 0 \nL 43.21875 8.296875 \nQ 40.140625 3.328125 35.546875 0.953125 \nQ 30.953125 -1.421875 24.3125 -1.421875 \nQ 15.921875 -1.421875 10.953125 3.296875 \nQ 6 8.015625 6 15.921875 \nQ 6 25.140625 12.171875 29.828125 \nQ 18.359375 34.515625 30.609375 34.515625 \nL 43.21875 34.515625 \nL 43.21875 35.40625 \nQ 43.21875 41.609375 39.140625 45 \nQ 35.0625 48.390625 27.6875 48.390625 \nQ 23 48.390625 18.546875 47.265625 \nQ 14.109375 46.140625 10.015625 43.890625 \nL 10.015625 52.203125 \nQ 14.9375 54.109375 19.578125 55.046875 \nQ 24.21875 56 28.609375 56 \nQ 40.484375 56 46.34375 49.84375 \nQ 52.203125 43.703125 52.203125 31.203125 \nz\n\" id=\"DejaVuSans-97\"/>\n      <path d=\"M 41.109375 46.296875 \nQ 39.59375 47.171875 37.8125 47.578125 \nQ 36.03125 48 33.890625 48 \nQ 26.265625 48 22.1875 43.046875 \nQ 18.109375 38.09375 18.109375 28.8125 \nL 18.109375 0 \nL 9.078125 0 \nL 9.078125 54.6875 \nL 18.109375 54.6875 \nL 18.109375 46.1875 \nQ 20.953125 51.171875 25.484375 53.578125 \nQ 30.03125 56 36.53125 56 \nQ 37.453125 56 38.578125 55.875 \nQ 39.703125 55.765625 41.0625 55.515625 \nz\n\" id=\"DejaVuSans-114\"/>\n      <path d=\"M 52 44.1875 \nQ 55.375 50.25 60.0625 53.125 \nQ 64.75 56 71.09375 56 \nQ 79.640625 56 84.28125 50.015625 \nQ 88.921875 44.046875 88.921875 33.015625 \nL 88.921875 0 \nL 79.890625 0 \nL 79.890625 32.71875 \nQ 79.890625 40.578125 77.09375 44.375 \nQ 74.3125 48.1875 68.609375 48.1875 \nQ 61.625 48.1875 57.5625 43.546875 \nQ 53.515625 38.921875 53.515625 30.90625 \nL 53.515625 0 \nL 44.484375 0 \nL 44.484375 32.71875 \nQ 44.484375 40.625 41.703125 44.40625 \nQ 38.921875 48.1875 33.109375 48.1875 \nQ 26.21875 48.1875 22.15625 43.53125 \nQ 18.109375 38.875 18.109375 30.90625 \nL 18.109375 0 \nL 9.078125 0 \nL 9.078125 54.6875 \nL 18.109375 54.6875 \nL 18.109375 46.1875 \nQ 21.1875 51.21875 25.484375 53.609375 \nQ 29.78125 56 35.6875 56 \nQ 41.65625 56 45.828125 52.96875 \nQ 50 49.953125 52 44.1875 \nz\n\" id=\"DejaVuSans-109\"/>\n      <path d=\"M 56.203125 29.59375 \nL 56.203125 25.203125 \nL 14.890625 25.203125 \nQ 15.484375 15.921875 20.484375 11.0625 \nQ 25.484375 6.203125 34.421875 6.203125 \nQ 39.59375 6.203125 44.453125 7.46875 \nQ 49.3125 8.734375 54.109375 11.28125 \nL 54.109375 2.78125 \nQ 49.265625 0.734375 44.1875 -0.34375 \nQ 39.109375 -1.421875 33.890625 -1.421875 \nQ 20.796875 -1.421875 13.15625 6.1875 \nQ 5.515625 13.8125 5.515625 26.8125 \nQ 5.515625 40.234375 12.765625 48.109375 \nQ 20.015625 56 32.328125 56 \nQ 43.359375 56 49.78125 48.890625 \nQ 56.203125 41.796875 56.203125 29.59375 \nz\nM 47.21875 32.234375 \nQ 47.125 39.59375 43.09375 43.984375 \nQ 39.0625 48.390625 32.421875 48.390625 \nQ 24.90625 48.390625 20.390625 44.140625 \nQ 15.875 39.890625 15.1875 32.171875 \nz\n\" id=\"DejaVuSans-101\"/>\n      <path d=\"M 18.3125 70.21875 \nL 18.3125 54.6875 \nL 36.8125 54.6875 \nL 36.8125 47.703125 \nL 18.3125 47.703125 \nL 18.3125 18.015625 \nQ 18.3125 11.328125 20.140625 9.421875 \nQ 21.96875 7.515625 27.59375 7.515625 \nL 36.8125 7.515625 \nL 36.8125 0 \nL 27.59375 0 \nQ 17.1875 0 13.234375 3.875 \nQ 9.28125 7.765625 9.28125 18.015625 \nL 9.28125 47.703125 \nL 2.6875 47.703125 \nL 2.6875 54.6875 \nL 9.28125 54.6875 \nL 9.28125 70.21875 \nz\n\" id=\"DejaVuSans-116\"/>\n      <path d=\"M 9.421875 54.6875 \nL 18.40625 54.6875 \nL 18.40625 0 \nL 9.421875 0 \nz\nM 9.421875 75.984375 \nL 18.40625 75.984375 \nL 18.40625 64.59375 \nL 9.421875 64.59375 \nz\n\" id=\"DejaVuSans-105\"/>\n      <path d=\"M 48.78125 52.59375 \nL 48.78125 44.1875 \nQ 44.96875 46.296875 41.140625 47.34375 \nQ 37.3125 48.390625 33.40625 48.390625 \nQ 24.65625 48.390625 19.8125 42.84375 \nQ 14.984375 37.3125 14.984375 27.296875 \nQ 14.984375 17.28125 19.8125 11.734375 \nQ 24.65625 6.203125 33.40625 6.203125 \nQ 37.3125 6.203125 41.140625 7.25 \nQ 44.96875 8.296875 48.78125 10.40625 \nL 48.78125 2.09375 \nQ 45.015625 0.34375 40.984375 -0.53125 \nQ 36.96875 -1.421875 32.421875 -1.421875 \nQ 20.0625 -1.421875 12.78125 6.34375 \nQ 5.515625 14.109375 5.515625 27.296875 \nQ 5.515625 40.671875 12.859375 48.328125 \nQ 20.21875 56 33.015625 56 \nQ 37.15625 56 41.109375 55.140625 \nQ 45.0625 54.296875 48.78125 52.59375 \nz\n\" id=\"DejaVuSans-99\"/>\n      <path id=\"DejaVuSans-32\"/>\n      <path d=\"M 34.1875 63.1875 \nL 20.796875 26.90625 \nL 47.609375 26.90625 \nz\nM 28.609375 72.90625 \nL 39.796875 72.90625 \nL 67.578125 0 \nL 57.328125 0 \nL 50.6875 18.703125 \nL 17.828125 18.703125 \nL 11.1875 0 \nL 0.78125 0 \nz\n\" id=\"DejaVuSans-65\"/>\n      <path d=\"M 54.890625 33.015625 \nL 54.890625 0 \nL 45.90625 0 \nL 45.90625 32.71875 \nQ 45.90625 40.484375 42.875 44.328125 \nQ 39.84375 48.1875 33.796875 48.1875 \nQ 26.515625 48.1875 22.3125 43.546875 \nQ 18.109375 38.921875 18.109375 30.90625 \nL 18.109375 0 \nL 9.078125 0 \nL 9.078125 54.6875 \nL 18.109375 54.6875 \nL 18.109375 46.1875 \nQ 21.34375 51.125 25.703125 53.5625 \nQ 30.078125 56 35.796875 56 \nQ 45.21875 56 50.046875 50.171875 \nQ 54.890625 44.34375 54.890625 33.015625 \nz\n\" id=\"DejaVuSans-110\"/>\n      <path d=\"M 45.40625 27.984375 \nQ 45.40625 37.75 41.375 43.109375 \nQ 37.359375 48.484375 30.078125 48.484375 \nQ 22.859375 48.484375 18.828125 43.109375 \nQ 14.796875 37.75 14.796875 27.984375 \nQ 14.796875 18.265625 18.828125 12.890625 \nQ 22.859375 7.515625 30.078125 7.515625 \nQ 37.359375 7.515625 41.375 12.890625 \nQ 45.40625 18.265625 45.40625 27.984375 \nz\nM 54.390625 6.78125 \nQ 54.390625 -7.171875 48.1875 -13.984375 \nQ 42 -20.796875 29.203125 -20.796875 \nQ 24.46875 -20.796875 20.265625 -20.09375 \nQ 16.0625 -19.390625 12.109375 -17.921875 \nL 12.109375 -9.1875 \nQ 16.0625 -11.328125 19.921875 -12.34375 \nQ 23.78125 -13.375 27.78125 -13.375 \nQ 36.625 -13.375 41.015625 -8.765625 \nQ 45.40625 -4.15625 45.40625 5.171875 \nL 45.40625 9.625 \nQ 42.625 4.78125 38.28125 2.390625 \nQ 33.9375 0 27.875 0 \nQ 17.828125 0 11.671875 7.65625 \nQ 5.515625 15.328125 5.515625 27.984375 \nQ 5.515625 40.671875 11.671875 48.328125 \nQ 17.828125 56 27.875 56 \nQ 33.9375 56 38.28125 53.609375 \nQ 42.625 51.21875 45.40625 46.390625 \nL 45.40625 54.6875 \nL 54.390625 54.6875 \nz\n\" id=\"DejaVuSans-103\"/>\n      <path d=\"M 9.421875 75.984375 \nL 18.40625 75.984375 \nL 18.40625 0 \nL 9.421875 0 \nz\n\" id=\"DejaVuSans-108\"/>\n      <path d=\"M 44.28125 53.078125 \nL 44.28125 44.578125 \nQ 40.484375 46.53125 36.375 47.5 \nQ 32.28125 48.484375 27.875 48.484375 \nQ 21.1875 48.484375 17.84375 46.4375 \nQ 14.5 44.390625 14.5 40.28125 \nQ 14.5 37.15625 16.890625 35.375 \nQ 19.28125 33.59375 26.515625 31.984375 \nL 29.59375 31.296875 \nQ 39.15625 29.25 43.1875 25.515625 \nQ 47.21875 21.78125 47.21875 15.09375 \nQ 47.21875 7.46875 41.1875 3.015625 \nQ 35.15625 -1.421875 24.609375 -1.421875 \nQ 20.21875 -1.421875 15.453125 -0.5625 \nQ 10.6875 0.296875 5.421875 2 \nL 5.421875 11.28125 \nQ 10.40625 8.6875 15.234375 7.390625 \nQ 20.0625 6.109375 24.8125 6.109375 \nQ 31.15625 6.109375 34.5625 8.28125 \nQ 37.984375 10.453125 37.984375 14.40625 \nQ 37.984375 18.0625 35.515625 20.015625 \nQ 33.0625 21.96875 24.703125 23.78125 \nL 21.578125 24.515625 \nQ 13.234375 26.265625 9.515625 29.90625 \nQ 5.8125 33.546875 5.8125 39.890625 \nQ 5.8125 47.609375 11.28125 51.796875 \nQ 16.75 56 26.8125 56 \nQ 31.78125 56 36.171875 55.265625 \nQ 40.578125 54.546875 44.28125 53.078125 \nz\n\" id=\"DejaVuSans-115\"/>\n      <path d=\"M 31 75.875 \nQ 24.46875 64.65625 21.28125 53.65625 \nQ 18.109375 42.671875 18.109375 31.390625 \nQ 18.109375 20.125 21.3125 9.0625 \nQ 24.515625 -2 31 -13.1875 \nL 23.1875 -13.1875 \nQ 15.875 -1.703125 12.234375 9.375 \nQ 8.59375 20.453125 8.59375 31.390625 \nQ 8.59375 42.28125 12.203125 53.3125 \nQ 15.828125 64.359375 23.1875 75.875 \nz\n\" id=\"DejaVuSans-40\"/>\n      <path d=\"M 45.40625 46.390625 \nL 45.40625 75.984375 \nL 54.390625 75.984375 \nL 54.390625 0 \nL 45.40625 0 \nL 45.40625 8.203125 \nQ 42.578125 3.328125 38.25 0.953125 \nQ 33.9375 -1.421875 27.875 -1.421875 \nQ 17.96875 -1.421875 11.734375 6.484375 \nQ 5.515625 14.40625 5.515625 27.296875 \nQ 5.515625 40.1875 11.734375 48.09375 \nQ 17.96875 56 27.875 56 \nQ 33.9375 56 38.25 53.625 \nQ 42.578125 51.265625 45.40625 46.390625 \nz\nM 14.796875 27.296875 \nQ 14.796875 17.390625 18.875 11.75 \nQ 22.953125 6.109375 30.078125 6.109375 \nQ 37.203125 6.109375 41.296875 11.75 \nQ 45.40625 17.390625 45.40625 27.296875 \nQ 45.40625 37.203125 41.296875 42.84375 \nQ 37.203125 48.484375 30.078125 48.484375 \nQ 22.953125 48.484375 18.875 42.84375 \nQ 14.796875 37.203125 14.796875 27.296875 \nz\n\" id=\"DejaVuSans-100\"/>\n      <path d=\"M 8.015625 75.875 \nL 15.828125 75.875 \nQ 23.140625 64.359375 26.78125 53.3125 \nQ 30.421875 42.28125 30.421875 31.390625 \nQ 30.421875 20.453125 26.78125 9.375 \nQ 23.140625 -1.703125 15.828125 -13.1875 \nL 8.015625 -13.1875 \nQ 14.5 -2 17.703125 9.0625 \nQ 20.90625 20.125 20.90625 31.390625 \nQ 20.90625 42.671875 17.703125 53.65625 \nQ 14.5 64.65625 8.015625 75.875 \nz\n\" id=\"DejaVuSans-41\"/>\n     </defs>\n     <g style=\"fill:#555555;\" transform=\"translate(149.482188 271.378)scale(0.12 -0.12)\">\n      <use xlink:href=\"#DejaVuSans-80\"/>\n      <use x=\"55.802734\" xlink:href=\"#DejaVuSans-97\"/>\n      <use x=\"117.082031\" xlink:href=\"#DejaVuSans-114\"/>\n      <use x=\"158.195312\" xlink:href=\"#DejaVuSans-97\"/>\n      <use x=\"219.474609\" xlink:href=\"#DejaVuSans-109\"/>\n      <use x=\"316.886719\" xlink:href=\"#DejaVuSans-101\"/>\n      <use x=\"378.410156\" xlink:href=\"#DejaVuSans-116\"/>\n      <use x=\"417.619141\" xlink:href=\"#DejaVuSans-114\"/>\n      <use x=\"458.732422\" xlink:href=\"#DejaVuSans-105\"/>\n      <use x=\"486.515625\" xlink:href=\"#DejaVuSans-99\"/>\n      <use x=\"541.496094\" xlink:href=\"#DejaVuSans-32\"/>\n      <use x=\"573.283203\" xlink:href=\"#DejaVuSans-65\"/>\n      <use x=\"641.691406\" xlink:href=\"#DejaVuSans-110\"/>\n      <use x=\"705.070312\" xlink:href=\"#DejaVuSans-103\"/>\n      <use x=\"768.546875\" xlink:href=\"#DejaVuSans-108\"/>\n      <use x=\"796.330078\" xlink:href=\"#DejaVuSans-101\"/>\n      <use x=\"857.853516\" xlink:href=\"#DejaVuSans-115\"/>\n      <use x=\"909.953125\" xlink:href=\"#DejaVuSans-40\"/>\n      <use x=\"948.966797\" xlink:href=\"#DejaVuSans-114\"/>\n      <use x=\"990.080078\" xlink:href=\"#DejaVuSans-97\"/>\n      <use x=\"1051.359375\" xlink:href=\"#DejaVuSans-100\"/>\n      <use x=\"1114.835938\" xlink:href=\"#DejaVuSans-105\"/>\n      <use x=\"1142.619141\" xlink:href=\"#DejaVuSans-97\"/>\n      <use x=\"1203.898438\" xlink:href=\"#DejaVuSans-110\"/>\n      <use x=\"1267.277344\" xlink:href=\"#DejaVuSans-41\"/>\n     </g>\n    </g>\n   </g>\n   <g id=\"matplotlib.axis_2\">\n    <g id=\"ytick_1\">\n     <g id=\"line2d_15\">\n      <path clip-path=\"url(#pf952b46236)\" d=\"M 60.459063 231.698114 \nL 395.259063 231.698114 \n\" style=\"fill:none;stroke:#ffffff;stroke-linecap:square;stroke-width:0.8;\"/>\n     </g>\n     <g id=\"line2d_16\">\n      <defs>\n       <path d=\"M 0 0 \nL -3.5 0 \n\" id=\"ma4fbe4f602\" style=\"stroke:#555555;stroke-width:0.8;\"/>\n      </defs>\n      <g>\n       <use style=\"fill:#555555;stroke:#555555;stroke-width:0.8;\" x=\"60.459063\" xlink:href=\"#ma4fbe4f602\" y=\"231.698114\"/>\n      </g>\n     </g>\n     <g id=\"text_9\">\n      <!-- −1.00 -->\n      <defs>\n       <path d=\"M 10.59375 35.5 \nL 73.1875 35.5 \nL 73.1875 27.203125 \nL 10.59375 27.203125 \nz\n\" id=\"DejaVuSans-8722\"/>\n       <path d=\"M 10.6875 12.40625 \nL 21 12.40625 \nL 21 0 \nL 10.6875 0 \nz\n\" id=\"DejaVuSans-46\"/>\n      </defs>\n      <g style=\"fill:#555555;\" transform=\"translate(22.81375 235.497332)scale(0.1 -0.1)\">\n       <use xlink:href=\"#DejaVuSans-8722\"/>\n       <use x=\"83.789062\" xlink:href=\"#DejaVuSans-49\"/>\n       <use x=\"147.412109\" xlink:href=\"#DejaVuSans-46\"/>\n       <use x=\"179.199219\" xlink:href=\"#DejaVuSans-48\"/>\n       <use x=\"242.822266\" xlink:href=\"#DejaVuSans-48\"/>\n      </g>\n     </g>\n    </g>\n    <g id=\"ytick_2\">\n     <g id=\"line2d_17\">\n      <path clip-path=\"url(#pf952b46236)\" d=\"M 60.459063 206.989023 \nL 395.259063 206.989023 \n\" style=\"fill:none;stroke:#ffffff;stroke-linecap:square;stroke-width:0.8;\"/>\n     </g>\n     <g id=\"line2d_18\">\n      <g>\n       <use style=\"fill:#555555;stroke:#555555;stroke-width:0.8;\" x=\"60.459063\" xlink:href=\"#ma4fbe4f602\" y=\"206.989023\"/>\n      </g>\n     </g>\n     <g id=\"text_10\">\n      <!-- −0.75 -->\n      <defs>\n       <path d=\"M 8.203125 72.90625 \nL 55.078125 72.90625 \nL 55.078125 68.703125 \nL 28.609375 0 \nL 18.3125 0 \nL 43.21875 64.59375 \nL 8.203125 64.59375 \nz\n\" id=\"DejaVuSans-55\"/>\n      </defs>\n      <g style=\"fill:#555555;\" transform=\"translate(22.81375 210.788241)scale(0.1 -0.1)\">\n       <use xlink:href=\"#DejaVuSans-8722\"/>\n       <use x=\"83.789062\" xlink:href=\"#DejaVuSans-48\"/>\n       <use x=\"147.412109\" xlink:href=\"#DejaVuSans-46\"/>\n       <use x=\"179.199219\" xlink:href=\"#DejaVuSans-55\"/>\n       <use x=\"242.822266\" xlink:href=\"#DejaVuSans-53\"/>\n      </g>\n     </g>\n    </g>\n    <g id=\"ytick_3\">\n     <g id=\"line2d_19\">\n      <path clip-path=\"url(#pf952b46236)\" d=\"M 60.459063 182.279932 \nL 395.259063 182.279932 \n\" style=\"fill:none;stroke:#ffffff;stroke-linecap:square;stroke-width:0.8;\"/>\n     </g>\n     <g id=\"line2d_20\">\n      <g>\n       <use style=\"fill:#555555;stroke:#555555;stroke-width:0.8;\" x=\"60.459063\" xlink:href=\"#ma4fbe4f602\" y=\"182.279932\"/>\n      </g>\n     </g>\n     <g id=\"text_11\">\n      <!-- −0.50 -->\n      <g style=\"fill:#555555;\" transform=\"translate(22.81375 186.079151)scale(0.1 -0.1)\">\n       <use xlink:href=\"#DejaVuSans-8722\"/>\n       <use x=\"83.789062\" xlink:href=\"#DejaVuSans-48\"/>\n       <use x=\"147.412109\" xlink:href=\"#DejaVuSans-46\"/>\n       <use x=\"179.199219\" xlink:href=\"#DejaVuSans-53\"/>\n       <use x=\"242.822266\" xlink:href=\"#DejaVuSans-48\"/>\n      </g>\n     </g>\n    </g>\n    <g id=\"ytick_4\">\n     <g id=\"line2d_21\">\n      <path clip-path=\"url(#pf952b46236)\" d=\"M 60.459063 157.570841 \nL 395.259063 157.570841 \n\" style=\"fill:none;stroke:#ffffff;stroke-linecap:square;stroke-width:0.8;\"/>\n     </g>\n     <g id=\"line2d_22\">\n      <g>\n       <use style=\"fill:#555555;stroke:#555555;stroke-width:0.8;\" x=\"60.459063\" xlink:href=\"#ma4fbe4f602\" y=\"157.570841\"/>\n      </g>\n     </g>\n     <g id=\"text_12\">\n      <!-- −0.25 -->\n      <g style=\"fill:#555555;\" transform=\"translate(22.81375 161.37006)scale(0.1 -0.1)\">\n       <use xlink:href=\"#DejaVuSans-8722\"/>\n       <use x=\"83.789062\" xlink:href=\"#DejaVuSans-48\"/>\n       <use x=\"147.412109\" xlink:href=\"#DejaVuSans-46\"/>\n       <use x=\"179.199219\" xlink:href=\"#DejaVuSans-50\"/>\n       <use x=\"242.822266\" xlink:href=\"#DejaVuSans-53\"/>\n      </g>\n     </g>\n    </g>\n    <g id=\"ytick_5\">\n     <g id=\"line2d_23\">\n      <path clip-path=\"url(#pf952b46236)\" d=\"M 60.459063 132.86175 \nL 395.259063 132.86175 \n\" style=\"fill:none;stroke:#ffffff;stroke-linecap:square;stroke-width:0.8;\"/>\n     </g>\n     <g id=\"line2d_24\">\n      <g>\n       <use style=\"fill:#555555;stroke:#555555;stroke-width:0.8;\" x=\"60.459063\" xlink:href=\"#ma4fbe4f602\" y=\"132.86175\"/>\n      </g>\n     </g>\n     <g id=\"text_13\">\n      <!-- 0.00 -->\n      <g style=\"fill:#555555;\" transform=\"translate(31.193438 136.660969)scale(0.1 -0.1)\">\n       <use xlink:href=\"#DejaVuSans-48\"/>\n       <use x=\"63.623047\" xlink:href=\"#DejaVuSans-46\"/>\n       <use x=\"95.410156\" xlink:href=\"#DejaVuSans-48\"/>\n       <use x=\"159.033203\" xlink:href=\"#DejaVuSans-48\"/>\n      </g>\n     </g>\n    </g>\n    <g id=\"ytick_6\">\n     <g id=\"line2d_25\">\n      <path clip-path=\"url(#pf952b46236)\" d=\"M 60.459063 108.152659 \nL 395.259063 108.152659 \n\" style=\"fill:none;stroke:#ffffff;stroke-linecap:square;stroke-width:0.8;\"/>\n     </g>\n     <g id=\"line2d_26\">\n      <g>\n       <use style=\"fill:#555555;stroke:#555555;stroke-width:0.8;\" x=\"60.459063\" xlink:href=\"#ma4fbe4f602\" y=\"108.152659\"/>\n      </g>\n     </g>\n     <g id=\"text_14\">\n      <!-- 0.25 -->\n      <g style=\"fill:#555555;\" transform=\"translate(31.193438 111.951878)scale(0.1 -0.1)\">\n       <use xlink:href=\"#DejaVuSans-48\"/>\n       <use x=\"63.623047\" xlink:href=\"#DejaVuSans-46\"/>\n       <use x=\"95.410156\" xlink:href=\"#DejaVuSans-50\"/>\n       <use x=\"159.033203\" xlink:href=\"#DejaVuSans-53\"/>\n      </g>\n     </g>\n    </g>\n    <g id=\"ytick_7\">\n     <g id=\"line2d_27\">\n      <path clip-path=\"url(#pf952b46236)\" d=\"M 60.459063 83.443568 \nL 395.259063 83.443568 \n\" style=\"fill:none;stroke:#ffffff;stroke-linecap:square;stroke-width:0.8;\"/>\n     </g>\n     <g id=\"line2d_28\">\n      <g>\n       <use style=\"fill:#555555;stroke:#555555;stroke-width:0.8;\" x=\"60.459063\" xlink:href=\"#ma4fbe4f602\" y=\"83.443568\"/>\n      </g>\n     </g>\n     <g id=\"text_15\">\n      <!-- 0.50 -->\n      <g style=\"fill:#555555;\" transform=\"translate(31.193438 87.242787)scale(0.1 -0.1)\">\n       <use xlink:href=\"#DejaVuSans-48\"/>\n       <use x=\"63.623047\" xlink:href=\"#DejaVuSans-46\"/>\n       <use x=\"95.410156\" xlink:href=\"#DejaVuSans-53\"/>\n       <use x=\"159.033203\" xlink:href=\"#DejaVuSans-48\"/>\n      </g>\n     </g>\n    </g>\n    <g id=\"ytick_8\">\n     <g id=\"line2d_29\">\n      <path clip-path=\"url(#pf952b46236)\" d=\"M 60.459063 58.734477 \nL 395.259063 58.734477 \n\" style=\"fill:none;stroke:#ffffff;stroke-linecap:square;stroke-width:0.8;\"/>\n     </g>\n     <g id=\"line2d_30\">\n      <g>\n       <use style=\"fill:#555555;stroke:#555555;stroke-width:0.8;\" x=\"60.459063\" xlink:href=\"#ma4fbe4f602\" y=\"58.734477\"/>\n      </g>\n     </g>\n     <g id=\"text_16\">\n      <!-- 0.75 -->\n      <g style=\"fill:#555555;\" transform=\"translate(31.193438 62.533696)scale(0.1 -0.1)\">\n       <use xlink:href=\"#DejaVuSans-48\"/>\n       <use x=\"63.623047\" xlink:href=\"#DejaVuSans-46\"/>\n       <use x=\"95.410156\" xlink:href=\"#DejaVuSans-55\"/>\n       <use x=\"159.033203\" xlink:href=\"#DejaVuSans-53\"/>\n      </g>\n     </g>\n    </g>\n    <g id=\"ytick_9\">\n     <g id=\"line2d_31\">\n      <path clip-path=\"url(#pf952b46236)\" d=\"M 60.459063 34.025386 \nL 395.259063 34.025386 \n\" style=\"fill:none;stroke:#ffffff;stroke-linecap:square;stroke-width:0.8;\"/>\n     </g>\n     <g id=\"line2d_32\">\n      <g>\n       <use style=\"fill:#555555;stroke:#555555;stroke-width:0.8;\" x=\"60.459063\" xlink:href=\"#ma4fbe4f602\" y=\"34.025386\"/>\n      </g>\n     </g>\n     <g id=\"text_17\">\n      <!-- 1.00 -->\n      <g style=\"fill:#555555;\" transform=\"translate(31.193438 37.824605)scale(0.1 -0.1)\">\n       <use xlink:href=\"#DejaVuSans-49\"/>\n       <use x=\"63.623047\" xlink:href=\"#DejaVuSans-46\"/>\n       <use x=\"95.410156\" xlink:href=\"#DejaVuSans-48\"/>\n       <use x=\"159.033203\" xlink:href=\"#DejaVuSans-48\"/>\n      </g>\n     </g>\n    </g>\n    <g id=\"text_18\">\n     <!-- Expectation value of M matrix -->\n     <defs>\n      <path d=\"M 9.8125 72.90625 \nL 55.90625 72.90625 \nL 55.90625 64.59375 \nL 19.671875 64.59375 \nL 19.671875 43.015625 \nL 54.390625 43.015625 \nL 54.390625 34.71875 \nL 19.671875 34.71875 \nL 19.671875 8.296875 \nL 56.78125 8.296875 \nL 56.78125 0 \nL 9.8125 0 \nz\n\" id=\"DejaVuSans-69\"/>\n      <path d=\"M 54.890625 54.6875 \nL 35.109375 28.078125 \nL 55.90625 0 \nL 45.3125 0 \nL 29.390625 21.484375 \nL 13.484375 0 \nL 2.875 0 \nL 24.125 28.609375 \nL 4.6875 54.6875 \nL 15.28125 54.6875 \nL 29.78125 35.203125 \nL 44.28125 54.6875 \nz\n\" id=\"DejaVuSans-120\"/>\n      <path d=\"M 18.109375 8.203125 \nL 18.109375 -20.796875 \nL 9.078125 -20.796875 \nL 9.078125 54.6875 \nL 18.109375 54.6875 \nL 18.109375 46.390625 \nQ 20.953125 51.265625 25.265625 53.625 \nQ 29.59375 56 35.59375 56 \nQ 45.5625 56 51.78125 48.09375 \nQ 58.015625 40.1875 58.015625 27.296875 \nQ 58.015625 14.40625 51.78125 6.484375 \nQ 45.5625 -1.421875 35.59375 -1.421875 \nQ 29.59375 -1.421875 25.265625 0.953125 \nQ 20.953125 3.328125 18.109375 8.203125 \nz\nM 48.6875 27.296875 \nQ 48.6875 37.203125 44.609375 42.84375 \nQ 40.53125 48.484375 33.40625 48.484375 \nQ 26.265625 48.484375 22.1875 42.84375 \nQ 18.109375 37.203125 18.109375 27.296875 \nQ 18.109375 17.390625 22.1875 11.75 \nQ 26.265625 6.109375 33.40625 6.109375 \nQ 40.53125 6.109375 44.609375 11.75 \nQ 48.6875 17.390625 48.6875 27.296875 \nz\n\" id=\"DejaVuSans-112\"/>\n      <path d=\"M 30.609375 48.390625 \nQ 23.390625 48.390625 19.1875 42.75 \nQ 14.984375 37.109375 14.984375 27.296875 \nQ 14.984375 17.484375 19.15625 11.84375 \nQ 23.34375 6.203125 30.609375 6.203125 \nQ 37.796875 6.203125 41.984375 11.859375 \nQ 46.1875 17.53125 46.1875 27.296875 \nQ 46.1875 37.015625 41.984375 42.703125 \nQ 37.796875 48.390625 30.609375 48.390625 \nz\nM 30.609375 56 \nQ 42.328125 56 49.015625 48.375 \nQ 55.71875 40.765625 55.71875 27.296875 \nQ 55.71875 13.875 49.015625 6.21875 \nQ 42.328125 -1.421875 30.609375 -1.421875 \nQ 18.84375 -1.421875 12.171875 6.21875 \nQ 5.515625 13.875 5.515625 27.296875 \nQ 5.515625 40.765625 12.171875 48.375 \nQ 18.84375 56 30.609375 56 \nz\n\" id=\"DejaVuSans-111\"/>\n      <path d=\"M 2.984375 54.6875 \nL 12.5 54.6875 \nL 29.59375 8.796875 \nL 46.6875 54.6875 \nL 56.203125 54.6875 \nL 35.6875 0 \nL 23.484375 0 \nz\n\" id=\"DejaVuSans-118\"/>\n      <path d=\"M 8.5 21.578125 \nL 8.5 54.6875 \nL 17.484375 54.6875 \nL 17.484375 21.921875 \nQ 17.484375 14.15625 20.5 10.265625 \nQ 23.53125 6.390625 29.59375 6.390625 \nQ 36.859375 6.390625 41.078125 11.03125 \nQ 45.3125 15.671875 45.3125 23.6875 \nL 45.3125 54.6875 \nL 54.296875 54.6875 \nL 54.296875 0 \nL 45.3125 0 \nL 45.3125 8.40625 \nQ 42.046875 3.421875 37.71875 1 \nQ 33.40625 -1.421875 27.6875 -1.421875 \nQ 18.265625 -1.421875 13.375 4.4375 \nQ 8.5 10.296875 8.5 21.578125 \nz\nM 31.109375 56 \nz\n\" id=\"DejaVuSans-117\"/>\n      <path d=\"M 37.109375 75.984375 \nL 37.109375 68.5 \nL 28.515625 68.5 \nQ 23.6875 68.5 21.796875 66.546875 \nQ 19.921875 64.59375 19.921875 59.515625 \nL 19.921875 54.6875 \nL 34.71875 54.6875 \nL 34.71875 47.703125 \nL 19.921875 47.703125 \nL 19.921875 0 \nL 10.890625 0 \nL 10.890625 47.703125 \nL 2.296875 47.703125 \nL 2.296875 54.6875 \nL 10.890625 54.6875 \nL 10.890625 58.5 \nQ 10.890625 67.625 15.140625 71.796875 \nQ 19.390625 75.984375 28.609375 75.984375 \nz\n\" id=\"DejaVuSans-102\"/>\n      <path d=\"M 9.8125 72.90625 \nL 24.515625 72.90625 \nL 43.109375 23.296875 \nL 61.8125 72.90625 \nL 76.515625 72.90625 \nL 76.515625 0 \nL 66.890625 0 \nL 66.890625 64.015625 \nL 48.09375 14.015625 \nL 38.1875 14.015625 \nL 19.390625 64.015625 \nL 19.390625 0 \nL 9.8125 0 \nz\n\" id=\"DejaVuSans-77\"/>\n     </defs>\n     <g style=\"fill:#555555;\" transform=\"translate(16.318125 223.061438)rotate(-90)scale(0.12 -0.12)\">\n      <use xlink:href=\"#DejaVuSans-69\"/>\n      <use x=\"63.183594\" xlink:href=\"#DejaVuSans-120\"/>\n      <use x=\"122.363281\" xlink:href=\"#DejaVuSans-112\"/>\n      <use x=\"185.839844\" xlink:href=\"#DejaVuSans-101\"/>\n      <use x=\"247.363281\" xlink:href=\"#DejaVuSans-99\"/>\n      <use x=\"302.34375\" xlink:href=\"#DejaVuSans-116\"/>\n      <use x=\"341.552734\" xlink:href=\"#DejaVuSans-97\"/>\n      <use x=\"402.832031\" xlink:href=\"#DejaVuSans-116\"/>\n      <use x=\"442.041016\" xlink:href=\"#DejaVuSans-105\"/>\n      <use x=\"469.824219\" xlink:href=\"#DejaVuSans-111\"/>\n      <use x=\"531.005859\" xlink:href=\"#DejaVuSans-110\"/>\n      <use x=\"594.384766\" xlink:href=\"#DejaVuSans-32\"/>\n      <use x=\"626.171875\" xlink:href=\"#DejaVuSans-118\"/>\n      <use x=\"685.351562\" xlink:href=\"#DejaVuSans-97\"/>\n      <use x=\"746.630859\" xlink:href=\"#DejaVuSans-108\"/>\n      <use x=\"774.414062\" xlink:href=\"#DejaVuSans-117\"/>\n      <use x=\"837.792969\" xlink:href=\"#DejaVuSans-101\"/>\n      <use x=\"899.316406\" xlink:href=\"#DejaVuSans-32\"/>\n      <use x=\"931.103516\" xlink:href=\"#DejaVuSans-111\"/>\n      <use x=\"992.285156\" xlink:href=\"#DejaVuSans-102\"/>\n      <use x=\"1027.490234\" xlink:href=\"#DejaVuSans-32\"/>\n      <use x=\"1059.277344\" xlink:href=\"#DejaVuSans-77\"/>\n      <use x=\"1145.556641\" xlink:href=\"#DejaVuSans-32\"/>\n      <use x=\"1177.34375\" xlink:href=\"#DejaVuSans-109\"/>\n      <use x=\"1274.755859\" xlink:href=\"#DejaVuSans-97\"/>\n      <use x=\"1336.035156\" xlink:href=\"#DejaVuSans-116\"/>\n      <use x=\"1375.244141\" xlink:href=\"#DejaVuSans-114\"/>\n      <use x=\"1416.357422\" xlink:href=\"#DejaVuSans-105\"/>\n      <use x=\"1444.140625\" xlink:href=\"#DejaVuSans-120\"/>\n     </g>\n    </g>\n   </g>\n   <g id=\"PathCollection_1\">\n    <defs>\n     <path d=\"M 0 3 \nC 0.795609 3 1.55874 2.683901 2.12132 2.12132 \nC 2.683901 1.55874 3 0.795609 3 0 \nC 3 -0.795609 2.683901 -1.55874 2.12132 -2.12132 \nC 1.55874 -2.683901 0.795609 -3 0 -3 \nC -0.795609 -3 -1.55874 -2.683901 -2.12132 -2.12132 \nC -2.683901 -1.55874 -3 -0.795609 -3 0 \nC -3 0.795609 -2.683901 1.55874 -2.12132 2.12132 \nC -1.55874 2.683901 -0.795609 3 0 3 \nz\n\" id=\"ma879c343a4\" style=\"stroke:#0000ff;stroke-width:0.5;\"/>\n    </defs>\n    <g clip-path=\"url(#pf952b46236)\">\n     <use style=\"fill:#0000ff;stroke:#0000ff;stroke-width:0.5;\" x=\"228.470234\" xlink:href=\"#ma879c343a4\" y=\"231.698114\"/>\n    </g>\n   </g>\n   <g id=\"line2d_33\">\n    <path clip-path=\"url(#pf952b46236)\" d=\"M 75.677244 34.025386 \nL 79.344276 34.121906 \nL 80.56662 34.797545 \nL 81.788964 34.797545 \nL 83.011308 35.280145 \nL 84.233652 35.280145 \nL 86.67834 36.920983 \nL 87.900684 37.886182 \nL 89.123027 37.789662 \nL 90.345371 38.658341 \nL 91.567715 39.913099 \nL 92.790059 40.395699 \nL 94.012403 40.588739 \nL 95.234747 42.615656 \nL 96.457091 43.098256 \nL 97.679435 42.519136 \nL 98.901779 43.677375 \nL 100.124123 45.897332 \nL 101.346467 46.572972 \nL 102.568811 46.766011 \nL 103.791155 50.240727 \nL 105.013498 50.819847 \nL 106.235842 52.557205 \nL 107.458186 53.039804 \nL 108.68053 56.12844 \nL 109.902874 58.155358 \nL 111.125218 58.348398 \nL 112.347562 60.375315 \nL 113.569906 61.726594 \nL 114.79225 62.498753 \nL 116.014594 67.710827 \nL 117.236938 70.123824 \nL 118.459282 71.378582 \nL 119.681625 72.247261 \nL 120.903969 74.853298 \nL 122.126313 76.590656 \nL 123.348657 76.783696 \nL 124.571001 79.679293 \nL 125.793345 81.80273 \nL 128.238033 87.207844 \nL 129.460377 88.366082 \nL 130.682721 89.813881 \nL 131.905065 90.393 \nL 133.127409 94.446835 \nL 134.349753 100.334548 \nL 135.572096 100.527588 \nL 136.79444 106.125741 \nL 138.016784 106.415301 \nL 139.239128 105.932702 \nL 140.461472 109.696977 \nL 141.683816 117.032489 \nL 142.90616 115.102091 \nL 144.128504 118.576807 \nL 145.350848 121.568923 \nL 146.573192 123.98192 \nL 147.795536 124.850599 \nL 149.01788 127.263597 \nL 150.240224 129.966153 \nL 151.462567 131.896551 \nL 153.907255 137.108625 \nL 155.129599 140.872901 \nL 156.351943 142.224179 \nL 158.796631 147.918852 \nL 160.018975 148.980571 \nL 161.241319 153.130926 \nL 162.463663 153.613526 \nL 163.686007 158.14996 \nL 164.908351 158.43952 \nL 166.130694 163.265514 \nL 167.353038 164.809832 \nL 168.575382 165.292432 \nL 169.797726 168.188028 \nL 171.02007 172.338384 \nL 172.242414 171.662744 \nL 173.464758 176.006139 \nL 174.687102 177.164378 \nL 175.909446 179.094776 \nL 177.13179 179.673895 \nL 178.354134 183.53469 \nL 179.576478 187.878085 \nL 180.798822 193.379719 \nL 182.021165 193.379719 \nL 183.243509 192.41452 \nL 184.465853 193.862318 \nL 185.688197 198.012673 \nL 186.910541 197.916153 \nL 188.132885 200.039591 \nL 189.355229 201.390869 \nL 190.577573 206.602943 \nL 191.799917 208.243781 \nL 193.022261 207.278582 \nL 194.244605 207.568142 \nL 195.466949 208.822901 \nL 196.689293 212.008057 \nL 197.911636 213.166295 \nL 199.13398 214.517574 \nL 200.356324 217.316651 \nL 201.578668 218.474889 \nL 202.801012 218.474889 \nL 204.023356 220.405287 \nL 205.2457 220.501807 \nL 206.468044 222.914804 \nL 207.690388 222.335685 \nL 208.912732 223.397403 \nL 210.135076 225.90692 \nL 211.35742 226.67908 \nL 212.579763 227.161679 \nL 213.802107 227.451239 \nL 216.246795 228.802517 \nL 218.691483 229.574676 \nL 219.913827 230.443355 \nL 222.358515 231.215514 \nL 223.580859 231.215514 \nL 226.025547 231.601594 \nL 230.914922 231.505074 \nL 232.137266 231.408554 \nL 234.581954 230.250315 \nL 235.804298 229.864236 \nL 237.026642 230.346835 \nL 238.248986 229.188597 \nL 240.693674 228.512957 \nL 241.916018 227.354719 \nL 243.138362 227.161679 \nL 244.360705 226.00344 \nL 246.805393 225.134761 \nL 248.027737 223.590443 \nL 251.694769 220.791366 \nL 252.917113 219.440088 \nL 254.139457 219.440088 \nL 255.361801 218.378369 \nL 256.584145 215.579293 \nL 257.806489 213.648895 \nL 259.028832 213.552375 \nL 260.251176 209.884619 \nL 262.695864 207.085543 \nL 263.918208 203.417787 \nL 265.140552 200.71523 \nL 266.362896 202.452588 \nL 267.58524 200.039591 \nL 268.807584 198.881352 \nL 270.029928 197.240514 \nL 271.252272 194.730997 \nL 272.474616 193.283199 \nL 273.69696 193.186679 \nL 274.919303 188.843284 \nL 276.141647 186.430287 \nL 277.363991 186.044207 \nL 279.808679 180.446054 \nL 281.031023 174.94442 \nL 282.253367 177.936537 \nL 283.475711 172.820983 \nL 284.698055 172.145344 \nL 285.920399 167.22283 \nL 287.142743 165.871551 \nL 289.587431 161.142077 \nL 290.809774 161.335116 \nL 292.032118 159.115159 \nL 294.476806 152.551807 \nL 295.69915 150.814449 \nL 296.921494 145.988455 \nL 298.143838 141.64506 \nL 299.366182 142.031139 \nL 300.588526 139.714662 \nL 303.033214 135.467787 \nL 304.255558 132.57219 \nL 305.477901 130.255713 \nL 306.700245 125.236679 \nL 307.922589 122.148043 \nL 309.144933 123.209761 \nL 310.367277 119.638526 \nL 311.589621 120.024605 \nL 312.811965 115.97077 \nL 314.034309 112.882134 \nL 315.256653 110.662176 \nL 316.478997 104.967503 \nL 317.701341 102.168426 \nL 318.923685 106.029222 \nL 320.146029 98.79023 \nL 321.368372 97.535472 \nL 322.590716 94.157276 \nL 323.81306 95.315514 \nL 325.035404 91.261679 \nL 326.257748 88.752162 \nL 327.480092 83.057489 \nL 328.702436 83.154009 \nL 329.92478 83.829648 \nL 331.147124 78.521054 \nL 332.369468 75.528938 \nL 333.591812 75.046338 \nL 334.814156 74.853298 \nL 336.0365 71.861182 \nL 337.258843 72.729861 \nL 338.481187 66.745628 \nL 339.703531 66.552588 \nL 340.925875 62.209193 \nL 343.370563 58.058838 \nL 344.592907 58.734477 \nL 345.815251 59.989236 \nL 347.037595 58.058838 \nL 348.259939 51.688526 \nL 349.482283 52.267645 \nL 350.704627 51.881565 \nL 351.92697 50.433767 \nL 353.149314 49.565088 \nL 354.371658 47.63469 \nL 355.594002 46.283412 \nL 356.816346 43.870415 \nL 358.03869 42.326097 \nL 359.261034 43.966935 \nL 360.483378 41.650457 \nL 361.705722 40.106139 \nL 365.372754 38.272261 \nL 366.595098 38.465301 \nL 367.817441 37.114023 \nL 369.039785 36.341864 \nL 370.262129 36.148824 \nL 371.484473 35.376665 \nL 372.706817 34.894065 \nL 373.929161 34.701026 \nL 375.151505 34.314946 \nL 377.596193 34.025386 \nL 380.040881 34.025386 \nL 380.040881 34.025386 \n\" style=\"fill:none;stroke:#e24a33;stroke-linecap:square;stroke-width:1.5;\"/>\n   </g>\n   <g id=\"patch_3\">\n    <path d=\"M 60.459063 241.58175 \nL 60.459063 24.14175 \n\" style=\"fill:none;stroke:#ffffff;stroke-linecap:square;stroke-linejoin:miter;\"/>\n   </g>\n   <g id=\"patch_4\">\n    <path d=\"M 395.259063 241.58175 \nL 395.259063 24.14175 \n\" style=\"fill:none;stroke:#ffffff;stroke-linecap:square;stroke-linejoin:miter;\"/>\n   </g>\n   <g id=\"patch_5\">\n    <path d=\"M 60.459063 241.58175 \nL 395.259063 241.58175 \n\" style=\"fill:none;stroke:#ffffff;stroke-linecap:square;stroke-linejoin:miter;\"/>\n   </g>\n   <g id=\"patch_6\">\n    <path d=\"M 60.459063 24.14175 \nL 395.259063 24.14175 \n\" style=\"fill:none;stroke:#ffffff;stroke-linecap:square;stroke-linejoin:miter;\"/>\n   </g>\n   <g id=\"text_19\">\n    <!-- Expectation value vs theta -->\n    <defs>\n     <path d=\"M 54.890625 33.015625 \nL 54.890625 0 \nL 45.90625 0 \nL 45.90625 32.71875 \nQ 45.90625 40.484375 42.875 44.328125 \nQ 39.84375 48.1875 33.796875 48.1875 \nQ 26.515625 48.1875 22.3125 43.546875 \nQ 18.109375 38.921875 18.109375 30.90625 \nL 18.109375 0 \nL 9.078125 0 \nL 9.078125 75.984375 \nL 18.109375 75.984375 \nL 18.109375 46.1875 \nQ 21.34375 51.125 25.703125 53.5625 \nQ 30.078125 56 35.796875 56 \nQ 45.21875 56 50.046875 50.171875 \nQ 54.890625 44.34375 54.890625 33.015625 \nz\n\" id=\"DejaVuSans-104\"/>\n    </defs>\n    <g transform=\"translate(131.466813 18.14175)scale(0.144 -0.144)\">\n     <use xlink:href=\"#DejaVuSans-69\"/>\n     <use x=\"63.183594\" xlink:href=\"#DejaVuSans-120\"/>\n     <use x=\"122.363281\" xlink:href=\"#DejaVuSans-112\"/>\n     <use x=\"185.839844\" xlink:href=\"#DejaVuSans-101\"/>\n     <use x=\"247.363281\" xlink:href=\"#DejaVuSans-99\"/>\n     <use x=\"302.34375\" xlink:href=\"#DejaVuSans-116\"/>\n     <use x=\"341.552734\" xlink:href=\"#DejaVuSans-97\"/>\n     <use x=\"402.832031\" xlink:href=\"#DejaVuSans-116\"/>\n     <use x=\"442.041016\" xlink:href=\"#DejaVuSans-105\"/>\n     <use x=\"469.824219\" xlink:href=\"#DejaVuSans-111\"/>\n     <use x=\"531.005859\" xlink:href=\"#DejaVuSans-110\"/>\n     <use x=\"594.384766\" xlink:href=\"#DejaVuSans-32\"/>\n     <use x=\"626.171875\" xlink:href=\"#DejaVuSans-118\"/>\n     <use x=\"685.351562\" xlink:href=\"#DejaVuSans-97\"/>\n     <use x=\"746.630859\" xlink:href=\"#DejaVuSans-108\"/>\n     <use x=\"774.414062\" xlink:href=\"#DejaVuSans-117\"/>\n     <use x=\"837.792969\" xlink:href=\"#DejaVuSans-101\"/>\n     <use x=\"899.316406\" xlink:href=\"#DejaVuSans-32\"/>\n     <use x=\"931.103516\" xlink:href=\"#DejaVuSans-118\"/>\n     <use x=\"990.283203\" xlink:href=\"#DejaVuSans-115\"/>\n     <use x=\"1042.382812\" xlink:href=\"#DejaVuSans-32\"/>\n     <use x=\"1074.169922\" xlink:href=\"#DejaVuSans-116\"/>\n     <use x=\"1113.378906\" xlink:href=\"#DejaVuSans-104\"/>\n     <use x=\"1176.757812\" xlink:href=\"#DejaVuSans-101\"/>\n     <use x=\"1238.28125\" xlink:href=\"#DejaVuSans-116\"/>\n     <use x=\"1277.490234\" xlink:href=\"#DejaVuSans-97\"/>\n    </g>\n   </g>\n  </g>\n </g>\n <defs>\n  <clipPath id=\"pf952b46236\">\n   <rect height=\"217.44\" width=\"334.8\" x=\"60.459063\" y=\"24.14175\"/>\n  </clipPath>\n </defs>\n</svg>\n",
      "image/png": "[encoded data removed]"
     },
     "metadata": {}
    }
   ],
   "source": [
    "#################   Exploration   ###############\n",
    "N =  250\n",
    "all_angles = np.linspace(0,2*np.pi,N)\n",
    "angles = []        #--------------------------------- list for storing Parametric angles\n",
    "energies = []      #--------------------------------- list for storing eigen values\n",
    "print(\"Search in progress... Please wait!\")\n",
    "\n",
    "for theta in all_angles.reshape(N,1):\n",
    "    E = vqe(theta)\n",
    "    angles.append(theta)\n",
    "    energies.append(E)\n",
    "    #print('Parametric angle is {} and energy eigen value is {} \\n'.format(round(float(theta),3),E))\n",
    "\n",
    "\n",
    "print('\\n \\n \\nMinimum energy eigen value is:',min(energies))\n",
    "print('Angle corresponds to this energy is {} radian\\n'.format(round(all_angles[np.argmin(energies)],5)))\n",
    "\n",
    "plt.plot(angles,energies)\n",
    "plt.scatter(all_angles[np.argmin(energies)],min(energies),color='blue')\n",
    "plt.title('Expectation value vs theta', color='k')\n",
    "plt.xlabel('Parametric Angles(radian)')\n",
    "plt.ylabel('Expectation value of M matrix')\n",
    "plt.show()"
   ]
  },
  {
   "cell_type": "markdown",
   "metadata": {},
   "source": [
    "### In VQE state preparation and measurement is carried by Quantum module (QPU) and optimization of the angle of the parametric gates are done by classical optimizers (CPU)."
   ]
  },
  {
   "cell_type": "markdown",
   "metadata": {},
   "source": [
    "# 7. Finding solution of VQE with Ansatz 1 using Scipy optimizer\n",
    "One parametric angle is passed within the $theta$.Function $ansatz(theta)$ will use Ansatz-1"
   ]
  },
  {
   "cell_type": "code",
   "execution_count": 7,
   "metadata": {
    "tags": []
   },
   "outputs": [
    {
     "output_type": "stream",
     "name": "stdout",
     "text": "Optimization terminated successfully.\n\nLowest eigen value of M using VQE with ansatz_1 is -1.0\nParametric angle is 3.13717 radian.\nSuccess Status: True\n"
    }
   ],
   "source": [
    "###########  VQE by Scipy Optimizers with Ansatz 1 ##############\n",
    "\n",
    "theta = [2] #------------- One parameter in the list\n",
    "\n",
    "\n",
    "result = minimize(vqe, theta, method=\"Powell\")  # Powell, COBYLA, Nelder-Mead and others can be used\n",
    "print(result.message)\n",
    "print('\\nLowest eigen value of M using VQE with ansatz_1 is {}'.format(result.fun))\n",
    "print('Parametric angle is {} radian.'.format(round(float(result.x),5)))\n",
    "print('Success Status:',result.success)"
   ]
  },
  {
   "cell_type": "markdown",
   "metadata": {},
   "source": [
    "# 8. Finding solution of VQE with Ansatz 2 using Scipy optimizer\n",
    "Two parametric angles are passed within the $theta$. Function $ansatz(theta)$ will use Ansatz-2. These 2 angles will be used in 6 parametric gates as the depth is 3."
   ]
  },
  {
   "cell_type": "code",
   "execution_count": 8,
   "metadata": {
    "tags": []
   },
   "outputs": [
    {
     "output_type": "stream",
     "name": "stdout",
     "text": "Optimization terminated successfully.\n\nLowest eigen value of M using VQE with ansatz_2 is -1.0\nSuccess Status: True\n"
    }
   ],
   "source": [
    "###########  VQE by Scipy Optimizers with Ansatz 2  ##############\n",
    "\n",
    "theta = [2,2]  #---------------------- 2 parameters in the list\n",
    "\n",
    "\n",
    "result = minimize(vqe, theta, method=\"Powell\")  # Powell, Nelder-Mead, COBYLA  and others can be used\n",
    "print(result.message)\n",
    "print('\\nLowest eigen value of M using VQE with ansatz_2 is {}'.format(result.fun))\n",
    "print('Success Status:',result.success)"
   ]
  },
  {
   "cell_type": "code",
   "execution_count": null,
   "metadata": {},
   "outputs": [],
   "source": []
  }
 ]
}